{
 "cells": [
  {
   "cell_type": "code",
   "execution_count": 73,
   "outputs": [],
   "source": [
    "import pdb\n",
    "from nltk.sentiment import SentimentIntensityAnalyzer\n",
    "import pandas as pd\n",
    "import numpy as np\n",
    "import csv\n",
    "from nltk.stem import WordNetLemmatizer\n",
    "import wget\n",
    "from sklearn.feature_extraction.text import CountVectorizer\n",
    "from nltk.stem import PorterStemmer\n",
    "from tqdm import tqdm\n",
    "import pdb\n",
    "import nltk\n",
    "from nltk import word_tokenize\n",
    "from nltk.corpus import stopwords\n",
    "import string"
   ],
   "metadata": {
    "collapsed": false,
    "pycharm": {
     "name": "#%%\n"
    }
   }
  },
  {
   "cell_type": "markdown",
   "source": [
    "# Data preprocessing and feature engineering"
   ],
   "metadata": {
    "collapsed": false,
    "pycharm": {
     "name": "#%% md\n"
    }
   }
  },
  {
   "cell_type": "markdown",
   "source": [
    "Download and read data from my github\n",
    "The commented code with '#' need to be run for the first running of the code. They are downloading the relevant datasets or packages."
   ],
   "metadata": {
    "collapsed": false,
    "pycharm": {
     "name": "#%% md\n"
    }
   }
  },
  {
   "cell_type": "code",
   "execution_count": 2,
   "outputs": [],
   "source": [
    "#wget.download('https://github.com/MarkIsDoingIt/STA2101/raw/main/datasets/mbti_text.csv')\n",
    "df=pd.read_csv('mbti_text.csv')\n",
    "target = df['type'].values\n",
    "posts = df['posts'].values"
   ],
   "metadata": {
    "collapsed": false,
    "pycharm": {
     "name": "#%%\n"
    }
   }
  },
  {
   "cell_type": "markdown",
   "source": [
    "Construct word cleaning list, including stopwords, punctuations and single numbers.\n",
    "Select the posts without website url link, clean the redundant components, remove case sensitivity, implement word lemmatization.\n",
    "Concat all posts for each person together in one string and build the whole corpus."
   ],
   "metadata": {
    "collapsed": false,
    "pycharm": {
     "name": "#%% md\n"
    }
   }
  },
  {
   "cell_type": "code",
   "execution_count": 76,
   "outputs": [],
   "source": [
    "#nltk.download('stopwords')\n",
    "#nltk.download('punkt')\n",
    "#nltk.download('omw-1.4')\n",
    "#nltk.download('wordnet')\n",
    "#nltk.download('vader_lexicon')\n",
    "numbers = [str(num) for num in range(0, 10)]\n",
    "stop = set(stopwords.words('english') + list(string.punctuation) + ['--', '....', '..', '\\'ll', '\\'d', '...', 'n\\'t', '\\'s', '\\'m', '\\'ve', '\\'re'] + numbers)"
   ],
   "metadata": {
    "collapsed": false,
    "pycharm": {
     "name": "#%%\n"
    }
   }
  },
  {
   "cell_type": "code",
   "execution_count": 93,
   "outputs": [
    {
     "name": "stderr",
     "output_type": "stream",
     "text": [
      "100%|██████████| 8675/8675 [00:59<00:00, 145.01it/s]\n"
     ]
    }
   ],
   "source": [
    "corpus = []\n",
    "mbti = []\n",
    "sentiment = []\n",
    "coupus_file =open('result_data/corpus_clean.txt', \"w\", encoding=\"utf8\", errors=\"surrogateescape\")\n",
    "ps =PorterStemmer()\n",
    "wl = WordNetLemmatizer()\n",
    "for i in tqdm(range(len(posts))):\n",
    "    document = ''\n",
    "    for post in posts[i].split('|||'):\n",
    "        if 'http' not in post:\n",
    "            cleaned_text = ' '.join([wl.lemmatize(word) for word in word_tokenize(post.lower()) if word not in stop])\n",
    "            document = document + cleaned_text + ' '\n",
    "    if document != '' and document != ' ':\n",
    "        mbti.append(target[i])\n",
    "        coupus_file.write(document)\n",
    "        coupus_file.write(\"\\n\")\n",
    "        corpus.append(document)\n",
    "mbti = pd.DataFrame(data=mbti)\n",
    "mbti.to_csv('result_data/mbti_target.csv', header = 0, index=None)"
   ],
   "metadata": {
    "collapsed": false,
    "pycharm": {
     "name": "#%%\n"
    }
   }
  },
  {
   "cell_type": "markdown",
   "source": [
    "Next few steps to create the word frequency matrix and convert it to the form of simple triplet matrix,\n",
    "which is a compatible data structure with R LDA function."
   ],
   "metadata": {
    "collapsed": false,
    "pycharm": {
     "name": "#%% md\n"
    }
   }
  },
  {
   "cell_type": "code",
   "execution_count": 7,
   "outputs": [],
   "source": [
    "corpus_list = []\n",
    "word_dict = {}\n",
    "for line in corpus:\n",
    "    corpus_list.extend(line.strip().split(' '))\n",
    "for item in corpus_list:\n",
    "    if item not in word_dict:\n",
    "        word_dict[item] = 1\n",
    "    else:\n",
    "        word_dict[item] += 1\n",
    "sorted_dict = sorted(word_dict.items(), key=lambda x: x[1], reverse=True)\n",
    "wordCount_file = csv.writer(open(\"result_data/wordCount.csv\", 'w', newline='', encoding='utf8'))\n",
    "wordList_file = csv.writer(open(\"result_data/wordList.csv\", 'w', newline='', encoding='utf8'))\n",
    "i = 0\n",
    "for key in sorted_dict:\n",
    "    wordCount_file.writerow([i, key[0], key[1]])\n",
    "    wordList_file.writerow([key[0]])\n",
    "    i+=1"
   ],
   "metadata": {
    "collapsed": false,
    "pycharm": {
     "name": "#%%\n"
    }
   }
  },
  {
   "cell_type": "markdown",
   "source": [
    "Now we get the file 'wordCount.csv', we can see what's the component of the corpus.\n",
    "That's not the main part of the project, but can give us a better overview about the dataset."
   ],
   "metadata": {
    "collapsed": false,
    "pycharm": {
     "name": "#%% md\n"
    }
   }
  },
  {
   "cell_type": "code",
   "execution_count": 23,
   "outputs": [],
   "source": [
    "word_list = pd.read_csv('result_data/wordList.csv',encoding='utf8', index_col=False, header=None)[0]\n",
    "word_dict = {}\n",
    "result_dict={}\n",
    "countLine = 0;\n",
    "num=0\n",
    "for item in word_list:\n",
    "    word_dict[item]=num\n",
    "    num=num+1\n",
    "for line in corpus:\n",
    "    words = []\n",
    "    words.extend(line.strip().split(' '))\n",
    "    for word in words:\n",
    "        if word in word_dict:\n",
    "            if (countLine,word_dict[word]) not in result_dict:\n",
    "                result_dict[(countLine,word_dict[word])]=1\n",
    "            else:\n",
    "                result_dict[(countLine,word_dict[word])]+=1\n",
    "    countLine+=1"
   ],
   "metadata": {
    "collapsed": false,
    "pycharm": {
     "name": "#%%\n"
    }
   }
  },
  {
   "cell_type": "markdown",
   "source": [
    "Now we get the sparse matrix of the word frequency matrix.\n",
    "Our next step is convert it into the readable data structure for R."
   ],
   "metadata": {
    "collapsed": false,
    "pycharm": {
     "name": "#%% md\n"
    }
   }
  },
  {
   "cell_type": "code",
   "execution_count": 24,
   "outputs": [
    {
     "name": "stdout",
     "output_type": "stream",
     "text": [
      "3502965\n"
     ]
    }
   ],
   "source": [
    "print(len(result_dict))"
   ],
   "metadata": {
    "collapsed": false,
    "pycharm": {
     "name": "#%%\n"
    }
   }
  },
  {
   "cell_type": "markdown",
   "source": [
    "3502965 = 2019 * 1735\n",
    "While R reading txt or csv file, it prefers intact columns and rows, which means the txt file looks like rectangular.\n",
    "So we write 2019 data in one line."
   ],
   "metadata": {
    "collapsed": false,
    "pycharm": {
     "name": "#%% md\n"
    }
   }
  },
  {
   "cell_type": "code",
   "execution_count": null,
   "outputs": [],
   "source": [
    "perLine = 2019\n",
    "i=open(\"result_data/i.txt\", \"w\", errors=\"surrogateescape\")\n",
    "j=open(\"result_data/j.txt\", \"w\", errors=\"surrogateescape\")\n",
    "v=open(\"result_data/v.txt\", \"w\", errors=\"surrogateescape\")\n",
    "num=0\n",
    "for key in result_dict:\n",
    "    num+=1\n",
    "    i.write(str(int(key[0])+1))\n",
    "    i.write(' ')\n",
    "    j.write(str(int(key[1])+1))\n",
    "    j.write(' ')\n",
    "    v.write(str(result_dict[key[0],key[1]]))\n",
    "    v.write(' ')\n",
    "    if num%perLine==0:\n",
    "        i.write('\\n')\n",
    "        j.write('\\n')\n",
    "        v.write('\\n')\n",
    "i.close()\n",
    "j.close()\n",
    "v.close()"
   ],
   "metadata": {
    "collapsed": false,
    "pycharm": {
     "name": "#%%\n"
    }
   }
  },
  {
   "cell_type": "markdown",
   "source": [
    "Now we finished the construction of simple triple matrix of word frequency matrix.\n",
    "Then we will construct the table of sentiment score."
   ],
   "metadata": {
    "collapsed": false,
    "pycharm": {
     "name": "#%% md\n"
    }
   }
  },
  {
   "cell_type": "code",
   "execution_count": null,
   "outputs": [],
   "source": [
    "for line in tqdm(corpus):\n",
    "    sid = SentimentIntensityAnalyzer()\n",
    "    ss = sid.polarity_scores(line)\n",
    "    sentiment.append([ss['neg'], ss['pos']])\n",
    "sentiment = pd.DataFrame(data = sentiment, columns=['neg', 'pos'])\n",
    "sentiment.to_csv('result_data/sentiment.csv', header = None, index=None)"
   ],
   "metadata": {
    "collapsed": false,
    "pycharm": {
     "name": "#%%\n"
    }
   }
  },
  {
   "cell_type": "markdown",
   "source": [
    "# After LDA by R\n",
    "Our hyperparameter is setted to k = 10, which means our LDA will give the probability\n",
    "of every  post relates to each of the ten topics.\n",
    "After implementing LDA from R, we can use the following code to view the LDA topics.\n",
    "We will see the top 20 words with highest probability for each topic, which is helpful\n",
    "to have a better understanding about the corpus."
   ],
   "metadata": {
    "collapsed": false,
    "pycharm": {
     "name": "#%% md\n"
    }
   }
  },
  {
   "cell_type": "code",
   "execution_count": 27,
   "outputs": [],
   "source": [
    "probMatrix_csv=pd.read_csv('result_data/topics_k10.csv',index_col=False)\n",
    "np.save(\"result_data/probMatrix_k10.npy\", probMatrix_csv)\n",
    "probMatrix=np.load('result_data/probMatrix_k10.npy',allow_pickle=True)\n",
    "top20_Matrix=np.zeros((20,10,2))\n",
    "sorted_topics=np.zeros((10,np.shape(probMatrix)[0],np.shape(probMatrix)[1]))\n",
    "for k in range(10):\n",
    "    sorted_topics[k] = sorted(probMatrix, key = lambda x: x[k+1], reverse=True)\n",
    "    for i in range(20):\n",
    "        top20_Matrix[i, k, 0] = sorted_topics[k][i][0]\n",
    "        top20_Matrix[i, k, 1] = np.exp(sorted_topics[k][i][k+1])"
   ],
   "metadata": {
    "collapsed": false,
    "pycharm": {
     "name": "#%%\n"
    }
   }
  },
  {
   "cell_type": "code",
   "execution_count": 55,
   "outputs": [],
   "source": [
    "word_list=pd.read_csv('result_data/wordList.csv',encoding='utf8',header=None,index_col=False)[0].to_numpy()\n",
    "outfile = open(\"result_data/top20_words_k10.txt\", \"w\", encoding=\"utf8\", errors=\"surrogateescape\")\n",
    "for i in range(10):\n",
    "    outfile.write('Topic ')\n",
    "    outfile.write(str(i+1))\n",
    "    outfile.write('\\n')\n",
    "    for j in range(20):\n",
    "        outfile.write(str(j+1))\n",
    "        outfile.write('  ')\n",
    "        outfile.write(str(word_list[int(top20_Matrix[j,i,0]-1)]))\n",
    "        outfile.write('  ')\n",
    "        outfile.write(str(top20_Matrix[j,i,1]))\n",
    "        outfile.write('\\n')\n",
    "    outfile.write('\\n')\n",
    "outfile.close()"
   ],
   "metadata": {
    "collapsed": false,
    "pycharm": {
     "name": "#%%\n"
    }
   }
  },
  {
   "cell_type": "markdown",
   "source": [
    "# Plots and showcase\n",
    "The rest part of this jupyter notebook does not have contribution to the main part of this model.\n",
    "They are some plots and brief presentation showed in the paper."
   ],
   "metadata": {
    "collapsed": false,
    "pycharm": {
     "name": "#%% md\n"
    }
   }
  },
  {
   "cell_type": "code",
   "execution_count": 107,
   "outputs": [
    {
     "data": {
      "text/plain": "<Figure size 576x288 with 1 Axes>",
      "image/png": "[encoded data removed]"
     },
     "metadata": {
      "needs_background": "light"
     },
     "output_type": "display_data"
    }
   ],
   "source": [
    "import matplotlib.pyplot as plt\n",
    "plt.figure(figsize=(8,4))\n",
    "dict = {}\n",
    "for item in target:\n",
    "    dict[item] = dict.get(item, 0) + 1\n",
    "plt.bar(list(dict.keys()), dict.values(), color='black')\n",
    "plt.ylabel('Number of users')\n",
    "plt.xlabel('MBTI type')\n",
    "plt.savefig('result_data/distribution of MBTI')\n",
    "plt.show()"
   ],
   "metadata": {
    "collapsed": false,
    "pycharm": {
     "name": "#%%\n"
    }
   }
  },
  {
   "cell_type": "code",
   "execution_count": 106,
   "outputs": [
    {
     "name": "stdout",
     "output_type": "stream",
     "text": [
      "'steve job recognized striving efficiency practicality genius systemization invention le invention claim se te come\n",
      "'Steve Job's was recognized for his striving for efficiency and practicality. His genius is in his systemization of inventions, less so than in invention. This is where claims of Se and Te come from.\n"
     ]
    }
   ],
   "source": [
    "i = 20\n",
    "for post in posts[i].split('|||'):\n",
    "    if 'http' not in post:\n",
    "        cleaned_text = ' '.join([wl.lemmatize(word) for word in word_tokenize(post.lower()) if word not in stop])\n",
    "        print(cleaned_text)\n",
    "        print(post)\n",
    "        break"
   ],
   "metadata": {
    "collapsed": false,
    "pycharm": {
     "name": "#%%\n"
    }
   }
  },
  {
   "cell_type": "code",
   "execution_count": null,
   "outputs": [],
   "source": [],
   "metadata": {
    "collapsed": false,
    "pycharm": {
     "name": "#%%\n"
    }
   }
  }
 ],
 "metadata": {
  "kernelspec": {
   "display_name": "Python 3",
   "language": "python",
   "name": "python3"
  },
  "language_info": {
   "codemirror_mode": {
    "name": "ipython",
    "version": 2
   },
   "file_extension": ".py",
   "mimetype": "text/x-python",
   "name": "python",
   "nbconvert_exporter": "python",
   "pygments_lexer": "ipython2",
   "version": "2.7.6"
  }
 },
 "nbformat": 4,
 "nbformat_minor": 0
}